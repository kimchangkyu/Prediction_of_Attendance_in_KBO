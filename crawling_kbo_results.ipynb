{
 "cells": [
  {
   "cell_type": "code",
   "execution_count": 9,
   "metadata": {},
   "outputs": [],
   "source": [
    "year = [\"2017\", \"2018\", \"2019\"]\n",
    "month = [\"03\",\"04\",\"05\", \"06\", \"07\", \"08\", \"09\", \"10\"]\n",
    "team = [\"SK\", \"HH\", \"WO\", \"HT\", \"SS\", \"LT\", \"OB\", \"LG\",\"KT\",\"NC\"]"
   ]
  },
  {
   "cell_type": "code",
   "execution_count": 10,
   "metadata": {},
   "outputs": [],
   "source": [
    "def craw_attendance(year, month, team):\n",
    "    game_dic = []\n",
    "    \n",
    "    # 데이터 추출\n",
    "    for y in year:\n",
    "        for m in month:\n",
    "            for t in team:\n",
    "                url = \"https://www.koreabaseball.com/ws/Schedule.asmx/GetScheduleList?leId=1&srIdList=0%2C9&seasonId={}&gameMonth={}&teamId={}\".format(y, m, t)\n",
    "                response = requests.get(url)\n",
    "                data = response.json()[\"rows\"]\n",
    "                \n",
    "                for n in range(0,31):\n",
    "                    try:\n",
    "                        year_c = y \n",
    "                        date = data[n]['row'][0]['Text'] #날짜\n",
    "                        time = data[n]['row'][1]['Text'] #시간\n",
    "                        result = data[n]['row'][2]['Text'] #경기결과\n",
    "                        park = data[n]['row'][7]['Text']  #구장\n",
    "                        etc = data[n]['row'][8]['Text'] #비고\n",
    "                                \n",
    "                        game_dic.append({\n",
    "                            \"year\" : year_c,\n",
    "                            \"dates\" : date,\n",
    "                            \"times\" : time,\n",
    "                            \"results\" : result,\n",
    "                            \"parks\" : park,\n",
    "                            \"etcs\" : etc,            \n",
    "                            })\n",
    "                    \n",
    "                    except:\n",
    "                        break\n",
    "                        \n",
    "    game = pd.DataFrame(game_dic)\n",
    "    game['times'] = game['times'].str.replace('<b>',' ').str.replace('</b>',' ')\n",
    "    game['results'] = game['results'].str.replace('<span class=\"win\">',' win ').str.replace('<span class=\"lose\">',' lose ').str.replace('<span class=\"same\">',' same ').str.replace('</span><span>',' ').str.replace('</span></em><span>',' ').str.replace('<span>','').str.replace('</span>','').str.replace('<em>','').str.replace('</em>','')\n",
    "    results_split = pd.DataFrame([x.split(' ') for x in sum([list([x]) for x in game[\"results\"]], [])])\n",
    "    dates_split = pd.DataFrame([x.split('(') for x in sum([list([x]) for x in game[\"dates\"]], [])])\n",
    "    game[\"away\"] = results_split[0]\n",
    "    game[\"homewin\"] = results_split[4]\n",
    "    game[\"home\"] = results_split[6]\n",
    "    game[\"weekday\"] = dates_split[1].str.replace(\")\",\"\")\n",
    "    game = game.drop([\"results\"],axis = 1)\n",
    "    game[\"dates\"] = game[\"year\"]+'/' + game[\"dates\"].str[:2] +\"/\" + game[\"dates\"].str[3:5]\n",
    "    game = game.drop([\"year\"],axis = 1)\n",
    "    game = game[[\"dates\", \"parks\", \"away\", \"home\", \"homewin\", \"etcs\", \"times\" ]]\n",
    "    game['dates'] = game['dates'].str.replace(\".\",\"/\")\n",
    "    game = game.drop_duplicates(subset=['dates','parks'], keep='first')\n",
    "    game.reset_index(drop=True, inplace=True)\n",
    "    \n",
    "    return game\n",
    "                    "
   ]
  },
  {
   "cell_type": "code",
   "execution_count": 11,
   "metadata": {
    "scrolled": true
   },
   "outputs": [],
   "source": [
    "game = craw_attendance(year, month, team)"
   ]
  },
  {
   "cell_type": "code",
   "execution_count": 4,
   "metadata": {},
   "outputs": [
    {
     "data": {
      "text/latex": [
       "$\\displaystyle 2290$"
      ],
      "text/plain": [
       "2290"
      ]
     },
     "execution_count": 4,
     "metadata": {},
     "output_type": "execute_result"
    }
   ],
   "source": [
    "len(game)"
   ]
  },
  {
   "cell_type": "code",
   "execution_count": 4,
   "metadata": {},
   "outputs": [],
   "source": [
    "game.to_csv('datas/kbo_results.csv', index = False)"
   ]
  }
 ],
 "metadata": {
  "kernelspec": {
   "display_name": "Python 3",
   "language": "python",
   "name": "python3"
  },
  "language_info": {
   "codemirror_mode": {
    "name": "ipython",
    "version": 3
   },
   "file_extension": ".py",
   "mimetype": "text/x-python",
   "name": "python",
   "nbconvert_exporter": "python",
   "pygments_lexer": "ipython3",
   "version": "3.7.4"
  }
 },
 "nbformat": 4,
 "nbformat_minor": 2
}
