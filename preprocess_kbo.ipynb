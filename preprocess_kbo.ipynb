{
 "cells": [
  {
   "cell_type": "markdown",
   "metadata": {},
   "source": [
    "### 2017"
   ]
  },
  {
   "cell_type": "code",
   "execution_count": 28,
   "metadata": {},
   "outputs": [],
   "source": [
    "kbo_2017 = pd.read_csv(\"datas/KBO_2017_season.csv\", encoding=\"utf-8\")"
   ]
  },
  {
   "cell_type": "code",
   "execution_count": 29,
   "metadata": {},
   "outputs": [
    {
     "data": {
      "text/html": [
       "<div>\n",
       "<style scoped>\n",
       "    .dataframe tbody tr th:only-of-type {\n",
       "        vertical-align: middle;\n",
       "    }\n",
       "\n",
       "    .dataframe tbody tr th {\n",
       "        vertical-align: top;\n",
       "    }\n",
       "\n",
       "    .dataframe thead th {\n",
       "        text-align: right;\n",
       "    }\n",
       "</style>\n",
       "<table border=\"1\" class=\"dataframe\">\n",
       "  <thead>\n",
       "    <tr style=\"text-align: right;\">\n",
       "      <th></th>\n",
       "      <th>Date</th>\n",
       "      <th>구장</th>\n",
       "      <th>원정팀</th>\n",
       "      <th>원정팀점수</th>\n",
       "      <th>홈팀점수</th>\n",
       "      <th>홈팀</th>\n",
       "      <th>원정팀결과</th>\n",
       "      <th>홈팀결과</th>\n",
       "      <th>비고</th>\n",
       "      <th>시간</th>\n",
       "    </tr>\n",
       "  </thead>\n",
       "  <tbody>\n",
       "    <tr>\n",
       "      <td>0</td>\n",
       "      <td>2017/03/14</td>\n",
       "      <td>대전</td>\n",
       "      <td>LG</td>\n",
       "      <td>9</td>\n",
       "      <td>9</td>\n",
       "      <td>한화</td>\n",
       "      <td>무</td>\n",
       "      <td>무</td>\n",
       "      <td>시범경기</td>\n",
       "      <td>13:00</td>\n",
       "    </tr>\n",
       "    <tr>\n",
       "      <td>1</td>\n",
       "      <td>2017/03/14</td>\n",
       "      <td>대구</td>\n",
       "      <td>KT</td>\n",
       "      <td>9</td>\n",
       "      <td>1</td>\n",
       "      <td>삼성</td>\n",
       "      <td>승</td>\n",
       "      <td>패</td>\n",
       "      <td>시범경기</td>\n",
       "      <td>13:00</td>\n",
       "    </tr>\n",
       "  </tbody>\n",
       "</table>\n",
       "</div>"
      ],
      "text/plain": [
       "         Date  구장 원정팀  원정팀점수  홈팀점수  홈팀 원정팀결과 홈팀결과    비고     시간\n",
       "0  2017/03/14  대전  LG      9     9  한화     무    무  시범경기  13:00\n",
       "1  2017/03/14  대구  KT      9     1  삼성     승    패  시범경기  13:00"
      ]
     },
     "execution_count": 29,
     "metadata": {},
     "output_type": "execute_result"
    }
   ],
   "source": [
    "kbo_2017[\"시간\"] = kbo_2017[\"Date\"].str[11:]\n",
    "kbo_2017[\"Date\"] = kbo_2017[\"Date\"].str[:10].str.replace(\"-\", \"/\")\n",
    "kbo_2017.head(2)"
   ]
  },
  {
   "cell_type": "markdown",
   "metadata": {},
   "source": [
    "### 2018"
   ]
  },
  {
   "cell_type": "code",
   "execution_count": 30,
   "metadata": {},
   "outputs": [],
   "source": [
    "kbo_2018 = pd.read_csv(\"datas/KBO_2018_season.csv\", encoding=\"utf-8\")"
   ]
  },
  {
   "cell_type": "code",
   "execution_count": 31,
   "metadata": {},
   "outputs": [
    {
     "data": {
      "text/html": [
       "<div>\n",
       "<style scoped>\n",
       "    .dataframe tbody tr th:only-of-type {\n",
       "        vertical-align: middle;\n",
       "    }\n",
       "\n",
       "    .dataframe tbody tr th {\n",
       "        vertical-align: top;\n",
       "    }\n",
       "\n",
       "    .dataframe thead th {\n",
       "        text-align: right;\n",
       "    }\n",
       "</style>\n",
       "<table border=\"1\" class=\"dataframe\">\n",
       "  <thead>\n",
       "    <tr style=\"text-align: right;\">\n",
       "      <th></th>\n",
       "      <th>Date</th>\n",
       "      <th>구장</th>\n",
       "      <th>원정팀</th>\n",
       "      <th>원정팀점수</th>\n",
       "      <th>홈팀점수</th>\n",
       "      <th>홈팀</th>\n",
       "      <th>원정팀결과</th>\n",
       "      <th>홈팀결과</th>\n",
       "      <th>비고</th>\n",
       "      <th>시간</th>\n",
       "    </tr>\n",
       "  </thead>\n",
       "  <tbody>\n",
       "    <tr>\n",
       "      <td>0</td>\n",
       "      <td>2018/03/13</td>\n",
       "      <td>대전</td>\n",
       "      <td>넥센</td>\n",
       "      <td>5</td>\n",
       "      <td>4</td>\n",
       "      <td>한화</td>\n",
       "      <td>승</td>\n",
       "      <td>패</td>\n",
       "      <td>시범경기</td>\n",
       "      <td>13:00</td>\n",
       "    </tr>\n",
       "    <tr>\n",
       "      <td>1</td>\n",
       "      <td>2018/03/13</td>\n",
       "      <td>광주</td>\n",
       "      <td>두산</td>\n",
       "      <td>4</td>\n",
       "      <td>5</td>\n",
       "      <td>기아</td>\n",
       "      <td>패</td>\n",
       "      <td>승</td>\n",
       "      <td>시범경기</td>\n",
       "      <td>13:00</td>\n",
       "    </tr>\n",
       "  </tbody>\n",
       "</table>\n",
       "</div>"
      ],
      "text/plain": [
       "         Date  구장 원정팀  원정팀점수  홈팀점수  홈팀 원정팀결과 홈팀결과    비고     시간\n",
       "0  2018/03/13  대전  넥센      5     4  한화     승    패  시범경기  13:00\n",
       "1  2018/03/13  광주  두산      4     5  기아     패    승  시범경기  13:00"
      ]
     },
     "execution_count": 31,
     "metadata": {},
     "output_type": "execute_result"
    }
   ],
   "source": [
    "kbo_2018[\"시간\"] = kbo_2018[\"Date\"].str[11:]\n",
    "kbo_2018[\"Date\"] = kbo_2018[\"Date\"].str[:10].str.replace(\"-\", \"/\")\n",
    "kbo_2018.head(2)"
   ]
  },
  {
   "cell_type": "markdown",
   "metadata": {},
   "source": [
    "### 2019년 3월 ~ 7월"
   ]
  },
  {
   "cell_type": "code",
   "execution_count": 32,
   "metadata": {},
   "outputs": [],
   "source": [
    "kbo_2019 = pd.read_csv(\"datas/KBO_2019_season_3-7.csv\", encoding=\"utf-8\")"
   ]
  },
  {
   "cell_type": "code",
   "execution_count": 33,
   "metadata": {},
   "outputs": [
    {
     "data": {
      "text/html": [
       "<div>\n",
       "<style scoped>\n",
       "    .dataframe tbody tr th:only-of-type {\n",
       "        vertical-align: middle;\n",
       "    }\n",
       "\n",
       "    .dataframe tbody tr th {\n",
       "        vertical-align: top;\n",
       "    }\n",
       "\n",
       "    .dataframe thead th {\n",
       "        text-align: right;\n",
       "    }\n",
       "</style>\n",
       "<table border=\"1\" class=\"dataframe\">\n",
       "  <thead>\n",
       "    <tr style=\"text-align: right;\">\n",
       "      <th></th>\n",
       "      <th>Date</th>\n",
       "      <th>구장</th>\n",
       "      <th>원정팀</th>\n",
       "      <th>원정팀점수</th>\n",
       "      <th>홈팀점수</th>\n",
       "      <th>홈팀</th>\n",
       "      <th>원정팀결과</th>\n",
       "      <th>홈팀결과</th>\n",
       "      <th>비고</th>\n",
       "      <th>시간</th>\n",
       "    </tr>\n",
       "  </thead>\n",
       "  <tbody>\n",
       "    <tr>\n",
       "      <td>0</td>\n",
       "      <td>2019/03/12</td>\n",
       "      <td>상동</td>\n",
       "      <td>NC</td>\n",
       "      <td>4.0</td>\n",
       "      <td>6.0</td>\n",
       "      <td>롯데</td>\n",
       "      <td>패</td>\n",
       "      <td>승</td>\n",
       "      <td>시범경기</td>\n",
       "      <td></td>\n",
       "    </tr>\n",
       "    <tr>\n",
       "      <td>1</td>\n",
       "      <td>2019/03/12</td>\n",
       "      <td>대구</td>\n",
       "      <td>KT</td>\n",
       "      <td>12.0</td>\n",
       "      <td>13.0</td>\n",
       "      <td>삼성</td>\n",
       "      <td>패</td>\n",
       "      <td>승</td>\n",
       "      <td>시범경기</td>\n",
       "      <td></td>\n",
       "    </tr>\n",
       "  </tbody>\n",
       "</table>\n",
       "</div>"
      ],
      "text/plain": [
       "         Date  구장 원정팀  원정팀점수  홈팀점수  홈팀 원정팀결과 홈팀결과    비고 시간\n",
       "0  2019/03/12  상동  NC    4.0   6.0  롯데     패    승  시범경기   \n",
       "1  2019/03/12  대구  KT   12.0  13.0  삼성     패    승  시범경기   "
      ]
     },
     "execution_count": 33,
     "metadata": {},
     "output_type": "execute_result"
    }
   ],
   "source": [
    "kbo_2019[\"시간\"] = kbo_2018[\"Date\"].str[11:]\n",
    "kbo_2019[\"Date\"] = kbo_2019[\"Date\"].str[:10].str.replace(\"-\", \"/\")\n",
    "kbo_2019.head(2)"
   ]
  },
  {
   "cell_type": "markdown",
   "metadata": {},
   "source": [
    "### 2017년 ~ 2019년 7월까지 concat"
   ]
  },
  {
   "cell_type": "code",
   "execution_count": 34,
   "metadata": {},
   "outputs": [],
   "source": [
    "df = pd.concat([kbo_2017, kbo_2018]).reset_index(drop=True)\n",
    "df = pd.concat([df, kbo_2019]).reset_index(drop=True)"
   ]
  },
  {
   "cell_type": "markdown",
   "metadata": {},
   "source": [
    "### 2019년 8월 ~10월 추가"
   ]
  },
  {
   "cell_type": "code",
   "execution_count": 35,
   "metadata": {},
   "outputs": [],
   "source": [
    "df = df.drop([\"원정팀점수\", \"홈팀점수\", \"원정팀결과\"], axis=1)\n",
    "df.columns = [\"dates\", \"parks\", \"away\", \"home\", \"homewin\", \"etcs\", \"times\"]"
   ]
  },
  {
   "cell_type": "code",
   "execution_count": 36,
   "metadata": {},
   "outputs": [],
   "source": [
    "df2 = pd.read_csv('datas/kbo_2019_season_9-10.csv')"
   ]
  },
  {
   "cell_type": "code",
   "execution_count": 37,
   "metadata": {},
   "outputs": [],
   "source": [
    "game = pd.concat([df, df2])"
   ]
  },
  {
   "cell_type": "code",
   "execution_count": 38,
   "metadata": {},
   "outputs": [],
   "source": [
    "game.to_csv(\"datas/preprocessing_kbo.csv\", index=False)"
   ]
  },
  {
   "cell_type": "code",
   "execution_count": null,
   "metadata": {},
   "outputs": [],
   "source": []
  }
 ],
 "metadata": {
  "kernelspec": {
   "display_name": "Python 3",
   "language": "python",
   "name": "python3"
  },
  "language_info": {
   "codemirror_mode": {
    "name": "ipython",
    "version": 3
   },
   "file_extension": ".py",
   "mimetype": "text/x-python",
   "name": "python",
   "nbconvert_exporter": "python",
   "pygments_lexer": "ipython3",
   "version": "3.7.4"
  }
 },
 "nbformat": 4,
 "nbformat_minor": 2
}
