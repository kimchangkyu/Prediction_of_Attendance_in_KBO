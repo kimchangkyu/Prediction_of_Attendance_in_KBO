{
 "cells": [
  {
   "cell_type": "markdown",
   "metadata": {},
   "source": [
    "### 네이버 검색량"
   ]
  },
  {
   "cell_type": "code",
   "execution_count": 14,
   "metadata": {},
   "outputs": [],
   "source": [
    "df_dusan = pd.read_excel(\"datas/dusan_search.xlsx\")\n",
    "df_dusan = df_dusan.iloc[6:].reset_index(drop=True)\n",
    "df_dusan = df_dusan.rename({\"url\": \"date\", \"http://datalab.naver.com/keyword/trendResult.naver?hashKey=N_a2b9076e49956ff24432379c02295438\": \"search\"}, axis='columns')\n",
    "df_dusan[\"team\"] = \"두산\""
   ]
  },
  {
   "cell_type": "code",
   "execution_count": 15,
   "metadata": {},
   "outputs": [],
   "source": [
    "df_lg = pd.read_excel(\"datas/lg_search.xlsx\")\n",
    "df_lg = df_lg.iloc[6:].reset_index(drop=True)\n",
    "df_lg = df_lg.rename({\"url\": \"date\", \"http://datalab.naver.com/keyword/trendResult.naver?hashKey=N_674ec0d7c20505ff9433d2428e7f57f3\": \"search\"}, axis='columns')\n",
    "df_lg[\"team\"] = \"LG\""
   ]
  },
  {
   "cell_type": "code",
   "execution_count": 16,
   "metadata": {},
   "outputs": [],
   "source": [
    "df_search = pd.concat([df_dusan, df_lg])"
   ]
  },
  {
   "cell_type": "code",
   "execution_count": 17,
   "metadata": {},
   "outputs": [],
   "source": [
    "df_search[\"date\"] = df_search[\"date\"].str.replace(\"-\", \"/\")"
   ]
  },
  {
   "cell_type": "code",
   "execution_count": 18,
   "metadata": {},
   "outputs": [],
   "source": [
    "df_search.to_csv(\"datas/naver_search.csv\", index=False)"
   ]
  },
  {
   "cell_type": "code",
   "execution_count": null,
   "metadata": {},
   "outputs": [],
   "source": []
  }
 ],
 "metadata": {
  "kernelspec": {
   "display_name": "Python 3",
   "language": "python",
   "name": "python3"
  },
  "language_info": {
   "codemirror_mode": {
    "name": "ipython",
    "version": 3
   },
   "file_extension": ".py",
   "mimetype": "text/x-python",
   "name": "python",
   "nbconvert_exporter": "python",
   "pygments_lexer": "ipython3",
   "version": "3.7.4"
  }
 },
 "nbformat": 4,
 "nbformat_minor": 4
}
